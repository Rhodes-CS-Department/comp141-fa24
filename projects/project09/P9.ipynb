{
 "cells": [
  {
   "cell_type": "code",
   "execution_count": 3,
   "id": "0f9fe83a",
   "metadata": {},
   "outputs": [
    {
     "name": "stdout",
     "output_type": "stream",
     "text": [
      "=====================================================================\n",
      "Assignment: Project 9\n",
      "OK, version v1.18.1\n",
      "=====================================================================\n",
      "\n"
     ]
    },
    {
     "name": "stderr",
     "output_type": "stream",
     "text": [
      "ERROR  | auth.py:102 | {'error': 'invalid_grant'}\n"
     ]
    },
    {
     "name": "stdout",
     "output_type": "stream",
     "text": [
      "\n",
      "Open the following URL:\n",
      "\n",
      "https://okpy.org/client/login/\n",
      "\n",
      "After logging in, copy the code from the web page and paste it into the box.\n",
      "Then press the \"Enter\" key on your keyboard.\n",
      "\n"
     ]
    },
    {
     "ename": "KeyboardInterrupt",
     "evalue": "Interrupted by user",
     "output_type": "error",
     "traceback": [
      "\u001b[0;31m---------------------------------------------------------------------------\u001b[0m",
      "\u001b[0;31mKeyboardInterrupt\u001b[0m                         Traceback (most recent call last)",
      "Cell \u001b[0;32mIn[3], line 5\u001b[0m\n\u001b[1;32m      1\u001b[0m \u001b[38;5;66;03m# Run this cell to log in to okpy.org so that you can submit\u001b[39;00m\n\u001b[1;32m      2\u001b[0m \u001b[38;5;66;03m# at the end of the lab.  If you come back later, you may need to \u001b[39;00m\n\u001b[1;32m      3\u001b[0m \u001b[38;5;66;03m# re-run this cell.\u001b[39;00m\n\u001b[1;32m      4\u001b[0m \u001b[38;5;28;01mfrom\u001b[39;00m \u001b[38;5;21;01mcs1\u001b[39;00m\u001b[38;5;21;01m.\u001b[39;00m\u001b[38;5;21;01mnotebooks\u001b[39;00m \u001b[38;5;28;01mimport\u001b[39;00m \u001b[38;5;241m*\u001b[39m\n\u001b[0;32m----> 5\u001b[0m \u001b[43mok_login\u001b[49m\u001b[43m(\u001b[49m\u001b[38;5;124;43m'\u001b[39;49m\u001b[38;5;124;43mp9.ok\u001b[39;49m\u001b[38;5;124;43m'\u001b[39;49m\u001b[43m)\u001b[49m\n",
      "File \u001b[0;32m/opt/conda/lib/python3.11/site-packages/cs1/notebooks.py:131\u001b[0m, in \u001b[0;36mok_login\u001b[0;34m(okfile, ignore_cache, ok_force, ok_inline)\u001b[0m\n\u001b[1;32m    129\u001b[0m \u001b[38;5;28;01mif\u001b[39;00m \u001b[38;5;129;01mnot\u001b[39;00m os\u001b[38;5;241m.\u001b[39mpath\u001b[38;5;241m.\u001b[39misfile(os\u001b[38;5;241m.\u001b[39mpath\u001b[38;5;241m.\u001b[39mjoin(os\u001b[38;5;241m.\u001b[39mpath\u001b[38;5;241m.\u001b[39mexpanduser(\u001b[38;5;124m\"\u001b[39m\u001b[38;5;124m~\u001b[39m\u001b[38;5;124m\"\u001b[39m), _OK_REFRESH_TOKEN_PATH)):\n\u001b[1;32m    130\u001b[0m     ok_force \u001b[38;5;241m=\u001b[39m \u001b[38;5;28;01mTrue\u001b[39;00m\n\u001b[0;32m--> 131\u001b[0m \u001b[43m_force_login\u001b[49m\u001b[43m(\u001b[49m\u001b[43mokfile\u001b[49m\u001b[43m,\u001b[49m\u001b[43m \u001b[49m\u001b[43mignore_cache\u001b[49m\u001b[43m,\u001b[49m\u001b[43m \u001b[49m\u001b[43mok_force\u001b[49m\u001b[43m,\u001b[49m\u001b[43m \u001b[49m\u001b[43mok_inline\u001b[49m\u001b[43m)\u001b[49m\n",
      "File \u001b[0;32m/opt/conda/lib/python3.11/site-packages/cs1/notebooks.py:117\u001b[0m, in \u001b[0;36m_force_login\u001b[0;34m(okfile, ignore_cache, ok_force, ok_inline)\u001b[0m\n\u001b[1;32m    115\u001b[0m _validate_or_create(okfile, ignore_cache)\n\u001b[1;32m    116\u001b[0m _ok \u001b[38;5;241m=\u001b[39m Notebook(okfile)\n\u001b[0;32m--> 117\u001b[0m \u001b[43m_ok\u001b[49m\u001b[38;5;241;43m.\u001b[39;49m\u001b[43mauth\u001b[49m\u001b[43m(\u001b[49m\u001b[43minline\u001b[49m\u001b[38;5;241;43m=\u001b[39;49m\u001b[43mok_inline\u001b[49m\u001b[43m,\u001b[49m\u001b[43m \u001b[49m\u001b[43mforce\u001b[49m\u001b[38;5;241;43m=\u001b[39;49m\u001b[43mok_force\u001b[49m\u001b[43m)\u001b[49m\n",
      "File \u001b[0;32m/opt/conda/lib/python3.11/site-packages/client/api/notebook.py:34\u001b[0m, in \u001b[0;36mNotebook.auth\u001b[0;34m(self, force, inline)\u001b[0m\n\u001b[1;32m     32\u001b[0m \u001b[38;5;28;01mif\u001b[39;00m \u001b[38;5;129;01mnot\u001b[39;00m force \u001b[38;5;129;01mand\u001b[39;00m login_with_env(\u001b[38;5;28mself\u001b[39m\u001b[38;5;241m.\u001b[39massignment):\n\u001b[1;32m     33\u001b[0m     \u001b[38;5;28;01mreturn\u001b[39;00m\n\u001b[0;32m---> 34\u001b[0m \u001b[38;5;28;43mself\u001b[39;49m\u001b[38;5;241;43m.\u001b[39;49m\u001b[43massignment\u001b[49m\u001b[38;5;241;43m.\u001b[39;49m\u001b[43mauthenticate\u001b[49m\u001b[43m(\u001b[49m\u001b[43mforce\u001b[49m\u001b[38;5;241;43m=\u001b[39;49m\u001b[43mforce\u001b[49m\u001b[43m,\u001b[49m\u001b[43m \u001b[49m\u001b[43minline\u001b[49m\u001b[38;5;241;43m=\u001b[39;49m\u001b[43minline\u001b[49m\u001b[43m)\u001b[49m\n",
      "File \u001b[0;32m/opt/conda/lib/python3.11/site-packages/client/api/assignment.py:303\u001b[0m, in \u001b[0;36mAssignment.authenticate\u001b[0;34m(self, force, inline, nointeract)\u001b[0m\n\u001b[1;32m    301\u001b[0m     \u001b[38;5;28;01mreturn\u001b[39;00m auth\u001b[38;5;241m.\u001b[39mauthenticate(\u001b[38;5;28mself\u001b[39m\u001b[38;5;241m.\u001b[39mcmd_args, endpoint\u001b[38;5;241m=\u001b[39m\u001b[38;5;28mself\u001b[39m\u001b[38;5;241m.\u001b[39mendpoint, force\u001b[38;5;241m=\u001b[39mforce, nointeract\u001b[38;5;241m=\u001b[39mnointeract)\n\u001b[1;32m    302\u001b[0m \u001b[38;5;28;01melse\u001b[39;00m:\n\u001b[0;32m--> 303\u001b[0m     \u001b[38;5;28;01mreturn\u001b[39;00m \u001b[43mauth\u001b[49m\u001b[38;5;241;43m.\u001b[39;49m\u001b[43mnotebook_authenticate\u001b[49m\u001b[43m(\u001b[49m\u001b[38;5;28;43mself\u001b[39;49m\u001b[38;5;241;43m.\u001b[39;49m\u001b[43mcmd_args\u001b[49m\u001b[43m,\u001b[49m\u001b[43m \u001b[49m\u001b[43mforce\u001b[49m\u001b[38;5;241;43m=\u001b[39;49m\u001b[43mforce\u001b[49m\u001b[43m,\u001b[49m\u001b[43m \u001b[49m\u001b[43mnointeract\u001b[49m\u001b[38;5;241;43m=\u001b[39;49m\u001b[43mnointeract\u001b[49m\u001b[43m)\u001b[49m\n",
      "File \u001b[0;32m/opt/conda/lib/python3.11/site-packages/client/utils/auth.py:228\u001b[0m, in \u001b[0;36mnotebook_authenticate\u001b[0;34m(cmd_args, force, silent, nointeract)\u001b[0m\n\u001b[1;32m    226\u001b[0m         \u001b[38;5;28;01mif\u001b[39;00m \u001b[38;5;129;01mnot\u001b[39;00m silent:\n\u001b[1;32m    227\u001b[0m             \u001b[38;5;28;01mraise\u001b[39;00m e\n\u001b[0;32m--> 228\u001b[0m         \u001b[38;5;28;01mreturn\u001b[39;00m \u001b[43mnotebook_authenticate\u001b[49m\u001b[43m(\u001b[49m\u001b[43mcmd_args\u001b[49m\u001b[43m,\u001b[49m\u001b[43m \u001b[49m\u001b[43mforce\u001b[49m\u001b[38;5;241;43m=\u001b[39;49m\u001b[38;5;28;43;01mTrue\u001b[39;49;00m\u001b[43m,\u001b[49m\u001b[43m \u001b[49m\u001b[43msilent\u001b[49m\u001b[38;5;241;43m=\u001b[39;49m\u001b[38;5;28;43;01mFalse\u001b[39;49;00m\u001b[43m)\u001b[49m\n\u001b[1;32m    230\u001b[0m \u001b[38;5;28;01mif\u001b[39;00m nointeract:\n\u001b[1;32m    231\u001b[0m     \u001b[38;5;28;01mreturn\u001b[39;00m \u001b[38;5;28;01mNone\u001b[39;00m\n",
      "File \u001b[0;32m/opt/conda/lib/python3.11/site-packages/client/utils/auth.py:234\u001b[0m, in \u001b[0;36mnotebook_authenticate\u001b[0;34m(cmd_args, force, silent, nointeract)\u001b[0m\n\u001b[1;32m    231\u001b[0m     \u001b[38;5;28;01mreturn\u001b[39;00m \u001b[38;5;28;01mNone\u001b[39;00m\n\u001b[1;32m    233\u001b[0m \u001b[38;5;28;01mif\u001b[39;00m \u001b[38;5;129;01mnot\u001b[39;00m access_token:\n\u001b[0;32m--> 234\u001b[0m     access_token \u001b[38;5;241m=\u001b[39m \u001b[43mperform_oauth\u001b[49m\u001b[43m(\u001b[49m\n\u001b[1;32m    235\u001b[0m \u001b[43m        \u001b[49m\u001b[43mget_code_via_terminal\u001b[49m\u001b[43m,\u001b[49m\n\u001b[1;32m    236\u001b[0m \u001b[43m        \u001b[49m\u001b[43mcmd_args\u001b[49m\u001b[43m,\u001b[49m\n\u001b[1;32m    237\u001b[0m \u001b[43m        \u001b[49m\u001b[43mcopy_msg\u001b[49m\u001b[38;5;241;43m=\u001b[39;49m\u001b[43mNOTEBOOK_COPY_MESSAGE\u001b[49m\u001b[43m,\u001b[49m\n\u001b[1;32m    238\u001b[0m \u001b[43m        \u001b[49m\u001b[43mpaste_msg\u001b[49m\u001b[38;5;241;43m=\u001b[39;49m\u001b[43mNOTEBOOK_PASTE_MESSAGE\u001b[49m\u001b[43m)\u001b[49m\n\u001b[1;32m    240\u001b[0m \u001b[38;5;66;03m# Always display email\u001b[39;00m\n\u001b[1;32m    241\u001b[0m email \u001b[38;5;241m=\u001b[39m display_student_email(cmd_args, access_token)\n",
      "File \u001b[0;32m/opt/conda/lib/python3.11/site-packages/client/utils/auth.py:170\u001b[0m, in \u001b[0;36mperform_oauth\u001b[0;34m(code_fn, *args, **kwargs)\u001b[0m\n\u001b[1;32m    168\u001b[0m \u001b[38;5;28;01mdef\u001b[39;00m \u001b[38;5;21mperform_oauth\u001b[39m(code_fn, \u001b[38;5;241m*\u001b[39margs, \u001b[38;5;241m*\u001b[39m\u001b[38;5;241m*\u001b[39mkwargs):\n\u001b[1;32m    169\u001b[0m     \u001b[38;5;28;01mtry\u001b[39;00m:\n\u001b[0;32m--> 170\u001b[0m         access_token, expires_in, refresh_token \u001b[38;5;241m=\u001b[39m \u001b[43mcode_fn\u001b[49m\u001b[43m(\u001b[49m\u001b[38;5;241;43m*\u001b[39;49m\u001b[43margs\u001b[49m\u001b[43m,\u001b[49m\u001b[43m \u001b[49m\u001b[38;5;241;43m*\u001b[39;49m\u001b[38;5;241;43m*\u001b[39;49m\u001b[43mkwargs\u001b[49m\u001b[43m)\u001b[49m\n\u001b[1;32m    171\u001b[0m     \u001b[38;5;28;01mexcept\u001b[39;00m \u001b[38;5;167;01mUnicodeDecodeError\u001b[39;00m \u001b[38;5;28;01mas\u001b[39;00m e:\n\u001b[1;32m    172\u001b[0m         \u001b[38;5;28;01mwith\u001b[39;00m \u001b[38;5;28mformat\u001b[39m\u001b[38;5;241m.\u001b[39mblock(\u001b[38;5;124m'\u001b[39m\u001b[38;5;124m-\u001b[39m\u001b[38;5;124m'\u001b[39m):\n",
      "File \u001b[0;32m/opt/conda/lib/python3.11/site-packages/client/utils/auth.py:351\u001b[0m, in \u001b[0;36mget_code_via_terminal\u001b[0;34m(cmd_args, email, copy_msg, paste_msg)\u001b[0m\n\u001b[1;32m    349\u001b[0m \u001b[38;5;28mprint\u001b[39m(paste_msg)\n\u001b[1;32m    350\u001b[0m \u001b[38;5;28mprint\u001b[39m()\n\u001b[0;32m--> 351\u001b[0m code \u001b[38;5;241m=\u001b[39m \u001b[38;5;28;43minput\u001b[39;49m\u001b[43m(\u001b[49m\u001b[38;5;124;43m'\u001b[39;49m\u001b[38;5;124;43mPaste your code here: \u001b[39;49m\u001b[38;5;124;43m'\u001b[39;49m\u001b[43m)\u001b[49m\n\u001b[1;32m    352\u001b[0m \u001b[38;5;28;01mreturn\u001b[39;00m make_code_post(server_url(cmd_args), code, redirect_uri)\n",
      "File \u001b[0;32m/opt/conda/lib/python3.11/site-packages/ipykernel/kernelbase.py:1202\u001b[0m, in \u001b[0;36mKernel.raw_input\u001b[0;34m(self, prompt)\u001b[0m\n\u001b[1;32m   1200\u001b[0m     msg \u001b[38;5;241m=\u001b[39m \u001b[38;5;124m\"\u001b[39m\u001b[38;5;124mraw_input was called, but this frontend does not support input requests.\u001b[39m\u001b[38;5;124m\"\u001b[39m\n\u001b[1;32m   1201\u001b[0m     \u001b[38;5;28;01mraise\u001b[39;00m StdinNotImplementedError(msg)\n\u001b[0;32m-> 1202\u001b[0m \u001b[38;5;28;01mreturn\u001b[39;00m \u001b[38;5;28;43mself\u001b[39;49m\u001b[38;5;241;43m.\u001b[39;49m\u001b[43m_input_request\u001b[49m\u001b[43m(\u001b[49m\n\u001b[1;32m   1203\u001b[0m \u001b[43m    \u001b[49m\u001b[38;5;28;43mstr\u001b[39;49m\u001b[43m(\u001b[49m\u001b[43mprompt\u001b[49m\u001b[43m)\u001b[49m\u001b[43m,\u001b[49m\n\u001b[1;32m   1204\u001b[0m \u001b[43m    \u001b[49m\u001b[38;5;28;43mself\u001b[39;49m\u001b[38;5;241;43m.\u001b[39;49m\u001b[43m_parent_ident\u001b[49m\u001b[43m[\u001b[49m\u001b[38;5;124;43m\"\u001b[39;49m\u001b[38;5;124;43mshell\u001b[39;49m\u001b[38;5;124;43m\"\u001b[39;49m\u001b[43m]\u001b[49m\u001b[43m,\u001b[49m\n\u001b[1;32m   1205\u001b[0m \u001b[43m    \u001b[49m\u001b[38;5;28;43mself\u001b[39;49m\u001b[38;5;241;43m.\u001b[39;49m\u001b[43mget_parent\u001b[49m\u001b[43m(\u001b[49m\u001b[38;5;124;43m\"\u001b[39;49m\u001b[38;5;124;43mshell\u001b[39;49m\u001b[38;5;124;43m\"\u001b[39;49m\u001b[43m)\u001b[49m\u001b[43m,\u001b[49m\n\u001b[1;32m   1206\u001b[0m \u001b[43m    \u001b[49m\u001b[43mpassword\u001b[49m\u001b[38;5;241;43m=\u001b[39;49m\u001b[38;5;28;43;01mFalse\u001b[39;49;00m\u001b[43m,\u001b[49m\n\u001b[1;32m   1207\u001b[0m \u001b[43m\u001b[49m\u001b[43m)\u001b[49m\n",
      "File \u001b[0;32m/opt/conda/lib/python3.11/site-packages/ipykernel/kernelbase.py:1245\u001b[0m, in \u001b[0;36mKernel._input_request\u001b[0;34m(self, prompt, ident, parent, password)\u001b[0m\n\u001b[1;32m   1242\u001b[0m \u001b[38;5;28;01mexcept\u001b[39;00m \u001b[38;5;167;01mKeyboardInterrupt\u001b[39;00m:\n\u001b[1;32m   1243\u001b[0m     \u001b[38;5;66;03m# re-raise KeyboardInterrupt, to truncate traceback\u001b[39;00m\n\u001b[1;32m   1244\u001b[0m     msg \u001b[38;5;241m=\u001b[39m \u001b[38;5;124m\"\u001b[39m\u001b[38;5;124mInterrupted by user\u001b[39m\u001b[38;5;124m\"\u001b[39m\n\u001b[0;32m-> 1245\u001b[0m     \u001b[38;5;28;01mraise\u001b[39;00m \u001b[38;5;167;01mKeyboardInterrupt\u001b[39;00m(msg) \u001b[38;5;28;01mfrom\u001b[39;00m \u001b[38;5;28;01mNone\u001b[39;00m\n\u001b[1;32m   1246\u001b[0m \u001b[38;5;28;01mexcept\u001b[39;00m \u001b[38;5;167;01mException\u001b[39;00m:\n\u001b[1;32m   1247\u001b[0m     \u001b[38;5;28mself\u001b[39m\u001b[38;5;241m.\u001b[39mlog\u001b[38;5;241m.\u001b[39mwarning(\u001b[38;5;124m\"\u001b[39m\u001b[38;5;124mInvalid Message:\u001b[39m\u001b[38;5;124m\"\u001b[39m, exc_info\u001b[38;5;241m=\u001b[39m\u001b[38;5;28;01mTrue\u001b[39;00m)\n",
      "\u001b[0;31mKeyboardInterrupt\u001b[0m: Interrupted by user"
     ]
    }
   ],
   "source": [
    "# Run this cell to log in to okpy.org so that you can submit\n",
    "# at the end of the lab.  If you come back later, you may need to \n",
    "# re-run this cell.\n",
    "from cs1.notebooks import *\n",
    "ok_login('p9.ok')"
   ]
  },
  {
   "cell_type": "markdown",
   "id": "48eb8302",
   "metadata": {},
   "source": [
    "# Program 9: Predator-Prey Simulation\n",
    "\n",
    "Consider a 2D world consisting of empty space, prey, and predators. How much code do we need to get \"interesting\" behavior?\n",
    "\n",
    "You might be surprised!\n",
    "\n",
    "Everything except the visualization of this project is provided for you already. Read through to understand what the code does, and then implement your own visualization code, using 2D lists and dictionaries.\n",
    "\n",
    "Let's start by defining the `state` of our world:\n",
    "- 0s are empty space\n",
    "- 1s are prey\n",
    "- 2s are predators"
   ]
  },
  {
   "cell_type": "code",
   "execution_count": null,
   "id": "50b009cb",
   "metadata": {},
   "outputs": [],
   "source": [
    "example_state = [[0, 1, 0, 1, 0],\n",
    "                 [0, 0, 0, 0, 0],\n",
    "                 [2, 0, 0, 1, 1],\n",
    "                 [0, 0, 0, 1, 2]]\n",
    "# there are 5 prey (1s) and 2 predators (2s)"
   ]
  },
  {
   "cell_type": "markdown",
   "id": "6a5808ad",
   "metadata": {},
   "source": [
    "## World State\n",
    "First things first, let's start randomly generating world states.\n",
    "\n",
    "A random state has:\n",
    "- a height (number of rows)\n",
    "- a width (number of columns)\n",
    "- some prey\n",
    "- some predators\n",
    "\n",
    "You are given a function which generates a random state."
   ]
  },
  {
   "cell_type": "code",
   "execution_count": null,
   "id": "b56f01a8",
   "metadata": {},
   "outputs": [],
   "source": [
    "from simulation import *\n",
    "reload_functions('simulation.py')\n",
    "state = random_state(height=4, width=5, prey=3, predators=2)\n",
    "print_state(state)\n",
    "state = random_state(height=6, width=6, prey=8, predators=6)\n",
    "print_state(state)\n",
    "state = random_state(height=3, width=2, prey=1, predators=1)\n",
    "print_state(state)"
   ]
  },
  {
   "cell_type": "markdown",
   "id": "fcd7a2aa",
   "metadata": {},
   "source": [
    "## Artificial Life\n",
    "Now it's time for the cool stuff: *artificial life*. This is very similar to the garden you did in Project 7.\n",
    "\n",
    "Let's make the simplest rules possible. Predators and prey won't even move around at all: they'll just affect their neighbors according to fixed, simple rules:\n",
    "1. Empty cells neighboring prey turn into prey (prey reproduction).\n",
    "2. Prey neighboring predators turn into predators (predation + predator reproduction).\n",
    "3. All predators and prey die with a certain probability, making the cell empty (eg, 10% chance to die for predators, 50% chance to die for prey).\n",
    "\n",
    "You've been given these functions to make things easier which produce the behavior of artificial life. Namely:\n",
    "- `neighbors(state, r, c)` which returns a list of cell values of the (r, c)'s neighbors\n",
    "- `prey_in_neighborhood(state, r, c)` which counts the number of 1s in (r, c)'s neighbors\n",
    "- `predators_in_neighborhood(state, r, c)` which counts the number of 2s in (r, c)'s neighbors\n",
    "- `next_value(state, r, c)` which takes in a `state`, a row `r`, a column `c` and calculates what the value of this cell will be in the next iteration, according to the artificial life rules, using the above functions to do so\n",
    "- `next_state(state)` which takes one `state` and computes the next state of the simulation, using a double for-loop and `next_value` \n",
    "- `main()` which iterates though the intended number of simulation iterations, calling `next_state(state)` in each iteration"
   ]
  },
  {
   "cell_type": "code",
   "execution_count": null,
   "id": "0c4b9c48",
   "metadata": {},
   "outputs": [],
   "source": [
    "from simulation import *\n",
    "reload_functions('simulation.py')\n",
    "main()"
   ]
  },
  {
   "cell_type": "markdown",
   "id": "076592c3",
   "metadata": {},
   "source": [
    "## Visualization\n",
    "You'll notice it is very difficult to parse the state of the simulation. This is because our minds are more equipped for graphical representation than data displays. So let's get make sure we can better visualize the `state`.\n",
    "\n",
    "Write 2 functions in `simulation.py` to help you do this:\n",
    "1. `draw_state(state)`: takes in a state, clears the canvas, and draws each cell\n",
    "2. `draw_cell(x, y, color)`: takes in PIXEL coordinates (eg, (240, 300)) and draws a colored square there (the coordinates can be the center, the top right, bottom left, etc: whatever you choose will determine how you use our drawing functions to draw the cell)\n",
    "\n",
    "\n",
    "Note:\n",
    "- Define a global dictionary `colors`, whose keys are predator/prey/empty values (ie, 2/1/0) and whose values are color names as strings (eg, \"blue\", \"green\", \"red\").\n",
    "- Before calling `draw_state` the very first time, you'll want to call `open_canvas`\n",
    "- `open_canvas` needs a certain height and width in pixels; the height in pixels of a single cell in the visual representation of the simulation is given as the global constant `CELL_LENGTH_PIXELS`. Use this, as well as the global constants `ROWS` and `COLS`, to determine the correct size of the canvas to open.\n",
    "- Each cell you draw needs to be a square whose side lengths are `CELL_LENGTH_PIXELS`.\n",
    "\n",
    "Here's an example of a state (as a 2D list) and its corresponding visualization using black, green, and pink:\n",
    "\n",
    "```\n",
    "state = [[0, 0, 1, 0],\n",
    "         [0, 1, 0, 2],\n",
    "         [0, 1, 1, 0],\n",
    "         [1, 0, 0, 0]]\n",
    "```\n",
    "\n",
    "![One Iteration](sample_visualization.png \"One Iteration\")\n"
   ]
  },
  {
   "cell_type": "code",
   "execution_count": null,
   "id": "fdf536eb",
   "metadata": {},
   "outputs": [],
   "source": [
    "# from simulation import *\n",
    "# reload_functions('simulation.py')\n",
    "\n",
    "open_canvas(64, 64)\n",
    "# draw_circle(10, 10, 10)\n",
    "# draw_cell(30, 30, 'black')\n",
    "# draw_filled_rect(10, 10, 16, 16)\n",
    "# test draw_state:\n",
    "state = [[0, 0, 1, 0],\n",
    "         [0, 1, 0, 2],\n",
    "         [0, 1, 1, 0],\n",
    "         [1, 0, 0, 0]]\n",
    "draw_state(state)\n",
    "input(\"Enter anything to continue: \")\n",
    "\n",
    "state = [[1, 1, 2, 1],\n",
    "         [1, 0, 1, 2],\n",
    "         [1, 1, 2, 1],\n",
    "         [0, 1, 1, 1]]\n",
    "draw_state(state)\n",
    "input(\"Enter anything to continue: \")\n",
    "\n",
    "state = [[0, 2, 2, 2],\n",
    "         [1, 1, 2, 2],\n",
    "         [1, 2, 2, 2],\n",
    "         [1, 2, 2, 2]]\n",
    "draw_state(state)\n",
    "input(\"Enter anything to continue: \")"
   ]
  },
  {
   "cell_type": "markdown",
   "id": "9aa2c769",
   "metadata": {},
   "source": [
    "## Put it All Together\n",
    "\n",
    "Now modify `main()` so that instead of printing the state is draws the state. \n",
    "\n",
    "Notice the calls to `input` after each `draw_state` call. You can add these to prevent further execution of the program until the user is ready to move on. Try including these in `main` to see if the program is more \"usable\".\n",
    "\n",
    "Play around with the parameters to see if you can get any interesting behaviors!"
   ]
  },
  {
   "cell_type": "code",
   "execution_count": null,
   "id": "68b47dbc",
   "metadata": {},
   "outputs": [],
   "source": [
    "from simulation import *\n",
    "reload_functions('simulation.py')\n",
    "main()"
   ]
  },
  {
   "cell_type": "code",
   "execution_count": null,
   "id": "55515f89",
   "metadata": {},
   "outputs": [],
   "source": [
    "# Run this cell to submit.\n",
    "from cs1.notebooks import *\n",
    "ok_submit('project-5.ok')"
   ]
  }
 ],
 "metadata": {
  "kernelspec": {
   "display_name": "Python 3 (ipykernel)",
   "language": "python",
   "name": "python3"
  },
  "language_info": {
   "codemirror_mode": {
    "name": "ipython",
    "version": 3
   },
   "file_extension": ".py",
   "mimetype": "text/x-python",
   "name": "python",
   "nbconvert_exporter": "python",
   "pygments_lexer": "ipython3",
   "version": "3.11.4"
  },
  "varInspector": {
   "cols": {
    "lenName": 16,
    "lenType": 16,
    "lenVar": 40
   },
   "kernels_config": {
    "python": {
     "delete_cmd_postfix": "",
     "delete_cmd_prefix": "del ",
     "library": "var_list.py",
     "varRefreshCmd": "print(var_dic_list())"
    },
    "r": {
     "delete_cmd_postfix": ") ",
     "delete_cmd_prefix": "rm(",
     "library": "var_list.r",
     "varRefreshCmd": "cat(var_dic_list()) "
    }
   },
   "types_to_exclude": [
    "module",
    "function",
    "builtin_function_or_method",
    "instance",
    "_Feature"
   ],
   "window_display": false
  }
 },
 "nbformat": 4,
 "nbformat_minor": 5
}
