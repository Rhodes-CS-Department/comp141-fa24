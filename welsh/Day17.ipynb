{
 "cells": [
  {
   "cell_type": "markdown",
   "metadata": {},
   "source": [
    "## Solutions to Lab 05: \n",
    "### Exercise 1\n",
    "Write a function called count_factors that takes a single parameter called num. This function should return the number of positive factors of num. A positive factor is a number between 1 and num that divides num. For example, the number 10 has 4 factors: 1, 2, 5, and 10. So calling count_factors(10) should return 4.\n",
    "\n",
    "Hint: Write a loop that counts from 1 to num and tests the remainder of dividing num by whatever the counting variable is."
   ]
  },
  {
   "cell_type": "code",
   "execution_count": null,
   "metadata": {},
   "outputs": [],
   "source": [
    "def count_factors(num):\n",
    "    cnt = 0\n",
    "    for i in range(1, num+1):\n",
    "        if num % i == 0:\n",
    "            cnt += 1\n",
    "            \n",
    "    return cnt\n",
    "\n",
    "print(\"Number of factors of 10: \", count_factors(10))\n",
    "print(\"Number of factors of 30: \", count_factors(30))"
   ]
  },
  {
   "cell_type": "markdown",
   "metadata": {},
   "source": [
    "### Exercise 2\n",
    "\n",
    "Write a function called `roman` that takes a single parameter called `num`. This function should print out the pseudo-Roman numeral equivalent of a number. \n",
    "\n",
    "Note that we are going to call this \"pseudo-Roman\", because we will get rid of the weird subtraction rules for Roman numbers. For example, normally 9 is written as IX (10-1). But we can just print VIIII. \n",
    "\n",
    "Use a loop that runs until the parameter becomes equal to zero. Inside the loop, write `if` statements that test how big the number is (compared to the letter numeral values). Print the first numeral it is larger than or equal to, and then subtract that numeral's value.\n",
    "\n",
    "e.g., if the number is 127, my program would first print C (127 > 100), then X (27 > 10), then X (17 > 10), then V (7 > 5), then I (2 > 1), and finally I (1 >= 1).\n",
    "\n",
    "So, `roman(127)` should print `CXXVII`.\n",
    "\n",
    "Reference: M = 1000, D = 500, C = 100, L = 50, X = 10, V = 5, I = 1"
   ]
  },
  {
   "cell_type": "code",
   "execution_count": null,
   "metadata": {},
   "outputs": [],
   "source": [
    "def roman(num):\n",
    "    s = ''\n",
    "    while num > 0:\n",
    "        if num >= 1000:\n",
    "            s += 'M'\n",
    "            num -= 1000\n",
    "        elif num >= 500:\n",
    "            s += 'D'\n",
    "            num -= 500\n",
    "        elif num >= 100:\n",
    "            s += 'C'\n",
    "            num -= 100\n",
    "        elif num >= 50:\n",
    "            s += \"L\"\n",
    "            num -= 50\n",
    "        elif num >= 10:\n",
    "            s += 'X'\n",
    "            num -= 10\n",
    "        elif num >= 5:\n",
    "            s += 'V'\n",
    "            num -= 5\n",
    "        else:\n",
    "            s += 'I'\n",
    "            num -= 1\n",
    "    print(s)\n",
    "    \n",
    "    \n",
    "roman(127)\n",
    "roman(2021)\n",
    "roman(7)"
   ]
  },
  {
   "cell_type": "markdown",
   "metadata": {},
   "source": [
    "### Exercise 3\n",
    "\n",
    "Write a program that starts off by asking the user how much money they have in their bank account. Then enter a loop that continuously asks the user to enter an amount of money they want to withdraw from an ATM. Keep looping until the account is empty.\n",
    "\n",
    "Next, add a menu that allows a user to add money, subtract money, or quit the ATM program. Let the user keep going until they choose to quit. If the user requests to withdraw more money than is the account, the code should reject the request and withdraw nothing. "
   ]
  },
  {
   "cell_type": "code",
   "execution_count": null,
   "metadata": {},
   "outputs": [],
   "source": [
    "#This is a solution to the first part of the exercise. This program will ask the user how much money they have in the bank\n",
    "#Then it allows the user to keep withdrawing money until the account it empty. It keeps the user from withdrawing more\n",
    "#money than they have in their account\n",
    "\n",
    "def main():\n",
    "    money = float(input(\"How many much do you have in your bank account? \"))\n",
    "    while money > 0:\n",
    "        print(\"You currently have $\", format(money, '.2f'), \"in your account.\")\n",
    "        withdraw = int(input(\"How much money would you like to withdraw? \"))\n",
    "        if withdraw > money:\n",
    "            print(\"You don't have enough money in your account.\")\n",
    "        else:\n",
    "            money -= withdraw\n",
    "\n",
    "main()"
   ]
  },
  {
   "cell_type": "code",
   "execution_count": null,
   "metadata": {},
   "outputs": [],
   "source": [
    "#I used input validation to ensure that the user enters a positive value for the deposit/withdrawal amount\n",
    "def check_val(num):\n",
    "    while num < 0:\n",
    "        print(\"You must enter a positive value.\")\n",
    "        num = float(input(\"Try again: \"))\n",
    "    return num\n",
    "\n",
    "def main():\n",
    "    money = float(input(\"How many much do you have in your bank account? \"))\n",
    "    option = input(\"What would you like to do?\\n1. Deposit money\\n2. Withdraw money\\n3. Quit\\n\")\n",
    "    while option != '3':        \n",
    "        if option == '1':\n",
    "            deposit = int(input(\"How much money would you like to deposit? \"))\n",
    "            deposit = check_val(deposit)\n",
    "            money += deposit        \n",
    "\n",
    "        elif option == '2':\n",
    "                    \n",
    "            withdraw = int(input(\"How much money would you like to withdraw? \"))\n",
    "            withdraw = check_val(withdraw)\n",
    "            if withdraw > money:\n",
    "                print(\"You don't have enough money in your account.\")\n",
    "            else:\n",
    "                money -= withdraw\n",
    "            \n",
    "        print(\"You currently have $\", format(money, '.2f'), \"in your account.\")    \n",
    "        option = input(\"What would you like to do?\\n1. Deposit money\\n2. Withdraw money\\n3. Quit\\n\")\n",
    "\n",
    "    print(\"Good bye. Thanks for using our ATM.\")\n",
    "\n",
    "main()"
   ]
  },
  {
   "cell_type": "markdown",
   "metadata": {},
   "source": [
    "### Exercise 4\n",
    "\n",
    "Use `cs1.graphics` to draw any __2__ of the following images. These were all drawn using for loops. No nested loops are required for these.\n",
    "\n",
    "   <table>\n",
    "     <tr>\n",
    "       <td><img src=\"https://catiewelsh.github.io/cs141/for-loops0.png\"/></td>\n",
    "       <td><img src=\"https://catiewelsh.github.io/cs141/for-loops1.png\"/></td>\n",
    "       <td><img src=\"https://catiewelsh.github.io/cs141/for-loops2.png\"/></td>\n",
    "       <td><img src=\"https://catiewelsh.github.io/cs141/for-loops3.png\"/></td>\n",
    "     </tr>\n",
    "     <tr>\n",
    "       <td><img src=\"https://catiewelsh.github.io/cs141/for-loops4.png\"/></td>\n",
    "       <td><img src=\"https://catiewelsh.github.io/cs141/for-loops5.png\"/></td>\n",
    "       <td><img src=\"https://catiewelsh.github.io/cs141/for-loops6.png\"/></td>\n",
    "       <td><img src=\"https://catiewelsh.github.io/cs141/for-loops7.png\"/></td>\n",
    "     </tr>\n",
    "   </table>"
   ]
  },
  {
   "cell_type": "code",
   "execution_count": null,
   "metadata": {},
   "outputs": [],
   "source": [
    "from cs1.graphics import *\n",
    "\n",
    "def main():\n",
    "    open_canvas(300, 300)\n",
    "    set_color(\"black\")\n",
    "    for r in range(10, 101, 10):\n",
    "        draw_circle(150, 150, r)\n",
    "main()"
   ]
  },
  {
   "cell_type": "code",
   "execution_count": null,
   "metadata": {},
   "outputs": [],
   "source": [
    "from cs1.graphics import *\n",
    "def main():\n",
    "    open_canvas(300, 300)\n",
    "    set_color(\"black\")\n",
    "    x = 0\n",
    "    y1 = 10\n",
    "    y2 = 300\n",
    "    for i in range(19):\n",
    "        draw_line(x, y1, x, y2)\n",
    "        x += 15\n",
    "        y1 += 15\n",
    "\n",
    "main()"
   ]
  },
  {
   "cell_type": "code",
   "execution_count": null,
   "metadata": {},
   "outputs": [],
   "source": [
    "from cs1.graphics import *\n",
    "\n",
    "def main():\n",
    "    # Drawing 1\n",
    "    open_canvas(300, 300)\n",
    "    x1 = 0\n",
    "    x2 = 10\n",
    "    y1 = 0\n",
    "    y2 = 300\n",
    "    for i in range(20):\n",
    "        draw_line(x1, y1, x2, y2) \n",
    "        x2 += 15\n",
    "        y1 += 15 \n",
    "main()"
   ]
  },
  {
   "cell_type": "markdown",
   "metadata": {},
   "source": [
    "# Day 17: More on Loops"
   ]
  },
  {
   "cell_type": "markdown",
   "metadata": {},
   "source": [
    "## Using boolean variables in loops\n",
    "\n",
    "* Given a positive integer $n$, assign True to `prime` if $n$ has no factors other than 1 and itself. \n",
    "* If at any time during the loop, you find a factor of $n$ other than 1 or $n$, set value of `prime` to False and `break` out of the loop\n",
    "* Remember, $m$ is a factor of $n$ if $m$ divides $n$ evenly."
   ]
  },
  {
   "cell_type": "code",
   "execution_count": null,
   "metadata": {},
   "outputs": [],
   "source": [
    "# Using boolean variables in loops example\n",
    "def main():\n",
    "    n = int(input(\"N: \"))\n",
    "    prime = True\n",
    "  \n",
    "    for i in range(2, n):\n",
    "        if n % i == 0:\n",
    "            prime = False\n",
    "            break\n",
    "\n",
    "    print(i, \"after the loop\")\n",
    "    if prime:\n",
    "        print(n, \"is prime\")\n",
    "    else:\n",
    "        print(n, \"is not prime\")\n",
    "main()"
   ]
  },
  {
   "cell_type": "markdown",
   "metadata": {},
   "source": [
    "Recall that a while condition can be any condition that evaluates to True or False. Some programmers abuse this idea by writing \n",
    "`while True:` loops, that have a break statement inside of them. While I don't recommend this technique, you need to be able to read it. Here's an example."
   ]
  },
  {
   "cell_type": "code",
   "execution_count": null,
   "metadata": {},
   "outputs": [],
   "source": [
    "total_scores = 0\n",
    "while True:\n",
    "    score = int(input(\"Score? \"))\n",
    "    if score == 0:\n",
    "        break\n",
    "\n",
    "    total_scores += score\n",
    "\n",
    "print(\"The total is\", total_scores)\n",
    "  "
   ]
  },
  {
   "cell_type": "code",
   "execution_count": null,
   "metadata": {},
   "outputs": [],
   "source": [
    "#This code is equivalent to the code above - but does not require a break statement\n",
    "total_scores = 0\n",
    "score = int(input(\"Score? \"))\n",
    "while score != 0:\n",
    "    total_scores += score\n",
    "    score = int(input(\"Score? \"))\n",
    "\n",
    "print(\"The total is\", total_scores)"
   ]
  },
  {
   "cell_type": "markdown",
   "metadata": {},
   "source": [
    "## Sentinels\n",
    "\n",
    "__Sentinel:__ special value that marks the end of a sequence of items\n",
    "* When program reaches a sentinel, it knows that the end of the sequence of items was reached, and the loop terminates\n",
    "* Must be distinctive enough so as not to be mistaken for a regular value in the sequence\n",
    "* Example: in the example above, a score of 0 is a sentinel\n",
    "\n",
    "(You have been using these since the first day we introduced while loops. We're just giving them a name now.)"
   ]
  },
  {
   "cell_type": "markdown",
   "metadata": {},
   "source": [
    "###  Solving problems with for loops\n",
    "1. Compute the sum of the first $n$ odd positive integers using a __for__ loop\n",
    "\n",
    "Example: if $n$ is 5, you should compute 1 + 3 + 5 + 7 + 9."
   ]
  },
  {
   "cell_type": "code",
   "execution_count": null,
   "metadata": {},
   "outputs": [],
   "source": []
  },
  {
   "cell_type": "markdown",
   "metadata": {},
   "source": [
    "2. Using a for loop, draw a diagonal line that looks as follows: \n",
    "\n",
    "```\n",
    "\\\n",
    " \\\n",
    "  \\\n",
    "   \\\n",
    "    \\\n",
    "```\n",
    "Remember that `\\` is a special escape character, so to get it to display, you'll have to `print(\"\\\\\")`\n",
    "\n",
    "Once you have that working, allow the user to enter an integer representing the size of the line, and draw a diagonal line of the appropriate size."
   ]
  },
  {
   "cell_type": "code",
   "execution_count": null,
   "metadata": {},
   "outputs": [],
   "source": []
  },
  {
   "cell_type": "markdown",
   "metadata": {},
   "source": [
    "Please do the following:\n",
    "* Midterm 1 on Wednesday! No Quiz this week."
   ]
  }
 ],
 "metadata": {
  "kernelspec": {
   "display_name": "Python 3 (ipykernel)",
   "language": "python",
   "name": "python3"
  },
  "language_info": {
   "codemirror_mode": {
    "name": "ipython",
    "version": 3
   },
   "file_extension": ".py",
   "mimetype": "text/x-python",
   "name": "python",
   "nbconvert_exporter": "python",
   "pygments_lexer": "ipython3",
   "version": "3.11.4"
  },
  "varInspector": {
   "cols": {
    "lenName": 16,
    "lenType": 16,
    "lenVar": 40
   },
   "kernels_config": {
    "python": {
     "delete_cmd_postfix": "",
     "delete_cmd_prefix": "del ",
     "library": "var_list.py",
     "varRefreshCmd": "print(var_dic_list())"
    },
    "r": {
     "delete_cmd_postfix": ") ",
     "delete_cmd_prefix": "rm(",
     "library": "var_list.r",
     "varRefreshCmd": "cat(var_dic_list()) "
    }
   },
   "types_to_exclude": [
    "module",
    "function",
    "builtin_function_or_method",
    "instance",
    "_Feature"
   ],
   "window_display": false
  }
 },
 "nbformat": 4,
 "nbformat_minor": 2
}
