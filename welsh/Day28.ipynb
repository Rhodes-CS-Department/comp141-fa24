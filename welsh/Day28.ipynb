{
 "cells": [
  {
   "cell_type": "markdown",
   "metadata": {},
   "source": [
    "# Day 28: Strings IV"
   ]
  },
  {
   "cell_type": "code",
   "execution_count": null,
   "metadata": {},
   "outputs": [],
   "source": [
    "# Lab 8: Problem 2 in Counting (and related) problems\n",
    "#This is using the generic counting function idea \n",
    "#You can write a much longer if condition, but this is the easiest way to write it.\n",
    "\n",
    "def count_vowels(s):\n",
    "    cnt = 0\n",
    "    for i in range(0, len(s)):\n",
    "        if s[i] in 'aeiou':\n",
    "            cnt += 1\n",
    "    return cnt\n",
    "\n",
    "# Test cases:\n",
    "print(count_vowels(\"computer\"))"
   ]
  },
  {
   "cell_type": "code",
   "execution_count": null,
   "metadata": {},
   "outputs": [],
   "source": [
    "#Lab 8: Problem 5 in Counting (and related) problems\n",
    "#This is using the generic counting function idea \n",
    "#the if statement is based on the idea that we want to see if a particular character has been seen in s already or not\n",
    "def count_unique(s):\n",
    "    cnt = 0\n",
    "    for i in range(0, len(s), 1):\n",
    "        ch = s[i]\n",
    "        #if ch is not in the string before its index\n",
    "        if ch not in s[:i]:\n",
    "            cnt += 1\n",
    "    return cnt\n",
    "  \n",
    "count_unique(\"abracadabra\")"
   ]
  },
  {
   "cell_type": "code",
   "execution_count": null,
   "metadata": {},
   "outputs": [],
   "source": [
    "# Lab 8: Problem 2 in Problems involving building new strings\n",
    "# This is using a generic string filtering idea\n",
    "# This function returns the string s with capital letters removed.\n",
    "def remove_capitals(s):\n",
    "    newS = ''\n",
    "    for i in range(0, len(s), 1):\n",
    "        ch = s[i]\n",
    "        if not ch.isupper():\n",
    "            newS += ch\n",
    "      \n",
    "    return newS\n",
    "  \n",
    "remove_capitals(\"AbCDeFGhi9\")"
   ]
  },
  {
   "cell_type": "code",
   "execution_count": null,
   "metadata": {},
   "outputs": [],
   "source": [
    "#Lab 8: Problem 3 in Problems involving building new strings\n",
    "#This is using the generic string filtering idea with a twist\n",
    "\n",
    "def change_nums(s):\n",
    "    newS = ''\n",
    "    for i in range(0, len(s), 1):\n",
    "        ch = s[i]\n",
    "        if ch.isdigit():\n",
    "            ch = int(ch) + 1\n",
    "            newS += str(ch)\n",
    "        else:\n",
    "            newS += ch\n",
    "    return newS\n",
    "\n",
    "change_nums(\"a1b2\")"
   ]
  },
  {
   "cell_type": "code",
   "execution_count": null,
   "metadata": {},
   "outputs": [],
   "source": [
    "#Lab 8: Problem 4 in Problems involving building new strings\n",
    "#This function takes in a string s and returns a copy of the string in reverse order\n",
    "\n",
    "def reverse(s):\n",
    "    rev = ''\n",
    "    for i in range(len(s)-1, -1, -1):\n",
    "        ch = s[i]\n",
    "        rev += ch\n",
    "    return rev\n",
    "\n",
    "#Another way to solve this same problem is the following shortcut\n",
    "def reverse2(s):\n",
    "    return s[::-1]\n",
    "\n",
    "reverse(\"abcdef\")\n",
    "#reverse2(\"abcdef\")"
   ]
  },
  {
   "cell_type": "code",
   "execution_count": null,
   "metadata": {},
   "outputs": [],
   "source": [
    "# Lab 8: Problem 5 in Problems involving building new strings\n",
    "\n",
    "def encode(s):\n",
    "    s = s.lower()\n",
    "    letters = \"abcdefghijklmnopqrstuvwxyz\"\n",
    "    \n",
    "    newS = ''\n",
    "    for i in range(0, len(s)):\n",
    "        ch = s[i]\n",
    "        #since letters is 0-based, and we want a=1, add 1 to the find return value\n",
    "        ind = letters.find(ch) + 1\n",
    "\n",
    "        #typecast the integer into a string and add it to your new string\n",
    "        newS += str(ind) + \"-\"\n",
    "    \n",
    "    #Removing the last dash\n",
    "    if len(newS) > 1:\n",
    "        newS = newS[:-1]\n",
    "    return newS\n",
    "\n",
    "encode(\"abcxsk\")"
   ]
  },
  {
   "cell_type": "code",
   "execution_count": null,
   "metadata": {},
   "outputs": [],
   "source": [
    "# Lab 8: Problem 6 (Challenge) decode function\n",
    "def decode(s):\n",
    "    letters = \"abcdefghijklmnopqrstuvwxyz\"\n",
    "    newS = ''\n",
    "    #If we don't know how many values the split function will return\n",
    "    # we can put it into a single variable, which is now a list\n",
    "    numbers = s.split(\"-\")\n",
    "    print(numbers)\n",
    "    \n",
    "    for i in range(0, len(numbers), 1):\n",
    "        ind = int(numbers[i])-1\n",
    "        newS += letters[ind]\n",
    "    return newS\n",
    "\n",
    "\n",
    "decode(\"1-2-3-24-19-11\")"
   ]
  },
  {
   "cell_type": "markdown",
   "metadata": {},
   "source": [
    "## Pig Latin Translator\n",
    "- If a word begins with one or more consonants, the initial consonants are moved to the end of the word, and the suffix \"ay\" is attached.  For example, the word \"computer\" in Pig Latin becomes \"omputercay\" and the word \"paper\" becomes \"aperpay.\"  The word \"professor\" (beginning with two consonants) becomes \"ofessorpray\" and the word \"string\" (three initial consonants) becomes \"ingstray.\"\n",
    "\n",
    "- If a word begins with a vowel, the suffix \"way\" is attached (but no letters change positions).  For example,\n",
    "the word \"apple\" becomes \"appleway\" and the word \"igloo\" becomes \"iglooway.\""
   ]
  },
  {
   "cell_type": "code",
   "execution_count": null,
   "metadata": {},
   "outputs": [],
   "source": [
    "def first_vowel(word):\n",
    "    for i in range(0, len(word)):\n",
    "        if word[i] in 'aeiou':\n",
    "            return i\n",
    "    #Shouldn't get here, but just in case your word doesn't have a vowel in it\n",
    "    return -1\n",
    "\n",
    "def pig_latin(word):\n",
    "    #if the first character is a vowel, just add 'way' to it and return\n",
    "    if word[0] in 'aeiou':\n",
    "        return word + 'way'\n",
    "    else:\n",
    "        ind = first_vowel(word)\n",
    "        return word[ind:] + word[:ind] + 'ay'\n",
    "\n",
    "def piglatin_sentence(sentence):\n",
    "    words = sentence.split(\" \")\n",
    "    new_sentence = \"\"\n",
    "    for idx in range(0, len(words)):\n",
    "        word = words[idx]\n",
    "        pigword = pig_latin(word)\n",
    "        new_sentence += pigword\n",
    "        new_sentence += \" \"\n",
    "    return new_sentence\n",
    "\n",
    "def main():\n",
    "\n",
    "    s = input(\"Please enter a sentence to translate into pig-latin: \")\n",
    "    #ensure that all the letters are lowercase\n",
    "    s = s.lower()\n",
    "    print(\"In pig-latin, that is: \", piglatin_sentence(s))\n",
    "main()"
   ]
  },
  {
   "cell_type": "markdown",
   "metadata": {},
   "source": [
    "## Practice\n",
    "1. Web servers and Web browsers need to know a file's type so they know how to display the file. The file's type is based on the extension of the file's name. For example, we name our Python scripts with the .py extension and our HTML files with the .html extension. Using help(str), look at how to use the rfind method and compare with how the find method is used. Use the `rfind` method to determine a file's type. \n",
    "Example output:\n",
    "```\n",
    "What is the name of your file? index.html\n",
    "That is a html file.\n",
    "What is the name of your file? picture.jpg\n",
    "That is a jpg file.\n",
    "What is the name of your file? 16.functions.pdf\n",
    "That is a pdf file.\n",
    "```\n",
    "2. Write a function called `count_dups` that\tcounts the number of back-to-back duplicated characters\tin a string. Example: `count_dups(\"balloon\")` returns 2\n",
    "\n",
    "3. Write a function called `is_palindrome` that takes in a string as a parameter and returns True if it is a palindrome, and False otherwise. A palindrome is a word or phrase that is the same forwards and backwards.  In your algorithm, remove spaces from the string. You should consider upper and lower case letters as the same, .i.e., \"A man A plan A canal Panama\" is a palindrome. (What string methods can you use to accomplish this before processing?) However, you don't need to consider punctuation as special cases.\n",
    "Some example palindromes: \"kayak\", \"A man A plan A canal Panama\".  Example: `is_palindrome('kayak')` returns True"
   ]
  },
  {
   "cell_type": "code",
   "execution_count": null,
   "metadata": {},
   "outputs": [],
   "source": [
    "def main():\n",
    "    filename = input(\"What is the name of your file? \")\n",
    "    #Add your code here\n",
    "main()"
   ]
  },
  {
   "cell_type": "code",
   "execution_count": null,
   "metadata": {},
   "outputs": [],
   "source": [
    "def count_dups(s):\n",
    "    pass\n",
    "\n",
    "count_dups(\"balloon\")  "
   ]
  },
  {
   "cell_type": "code",
   "execution_count": null,
   "metadata": {},
   "outputs": [],
   "source": [
    "\n",
    "\n",
    "#Uncomment each of these one at a time to test your function\n",
    "#is_palindrome('kayak')\n",
    "#is_palindrome(\"A man A plan A canal Panama\")\n",
    "#is_palindrome(\"hello\")"
   ]
  },
  {
   "cell_type": "markdown",
   "metadata": {},
   "source": [
    "Please do the following:\n",
    "1. Take Quiz 8 - due tomorrow by 11:59pm\n",
    "2. Keep working on Project 7 - due by 11:59 on Thursday, November 14"
   ]
  },
  {
   "cell_type": "code",
   "execution_count": null,
   "metadata": {},
   "outputs": [],
   "source": []
  }
 ],
 "metadata": {
  "kernelspec": {
   "display_name": "Python 3 (ipykernel)",
   "language": "python",
   "name": "python3"
  },
  "language_info": {
   "codemirror_mode": {
    "name": "ipython",
    "version": 3
   },
   "file_extension": ".py",
   "mimetype": "text/x-python",
   "name": "python",
   "nbconvert_exporter": "python",
   "pygments_lexer": "ipython3",
   "version": "3.11.4"
  },
  "varInspector": {
   "cols": {
    "lenName": 16,
    "lenType": 16,
    "lenVar": 40
   },
   "kernels_config": {
    "python": {
     "delete_cmd_postfix": "",
     "delete_cmd_prefix": "del ",
     "library": "var_list.py",
     "varRefreshCmd": "print(var_dic_list())"
    },
    "r": {
     "delete_cmd_postfix": ") ",
     "delete_cmd_prefix": "rm(",
     "library": "var_list.r",
     "varRefreshCmd": "cat(var_dic_list()) "
    }
   },
   "types_to_exclude": [
    "module",
    "function",
    "builtin_function_or_method",
    "instance",
    "_Feature"
   ],
   "window_display": false
  }
 },
 "nbformat": 4,
 "nbformat_minor": 2
}
