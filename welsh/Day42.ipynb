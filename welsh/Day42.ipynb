{
 "cells": [
  {
   "cell_type": "markdown",
   "metadata": {},
   "source": [
    "# Day 42: Review"
   ]
  },
  {
   "cell_type": "markdown",
   "metadata": {},
   "source": [
    "Please do the following:\n",
    "* Complete the Course Evaluation - https://rhodes.campuslabs.com/eval-home/ (if at least 85% of the class fills this out, I will add 1 extra credit point to everyone's final exam grade).\n",
    "* Start studying for final exam - practice problems and solutions on Canvas (under Course Schedule)"
   ]
  },
  {
   "cell_type": "markdown",
   "metadata": {},
   "source": [
    "## Final Exam Information\n",
    "\n",
    "* Tuesday, December 17th from 8:30-11am in Briggs 019\n",
    "* Alternate Exam Time: Friday, December 13th from 1-3:30pm in __Briggs 001__\n",
    "* You may use the String, List and Dictionary Reference Handouts during the exam (will be provided for you).\n",
    "* You may NOT use any string, list, or dictionary methods that are not on the provided reference sheets. Doing so on any question that asks you to write some code will automatically reduce your grade in half on that question.\n"
   ]
  }
 ],
 "metadata": {
  "kernelspec": {
   "display_name": "Python 3 (ipykernel)",
   "language": "python",
   "name": "python3"
  },
  "language_info": {
   "codemirror_mode": {
    "name": "ipython",
    "version": 3
   },
   "file_extension": ".py",
   "mimetype": "text/x-python",
   "name": "python",
   "nbconvert_exporter": "python",
   "pygments_lexer": "ipython3",
   "version": "3.11.4"
  },
  "varInspector": {
   "cols": {
    "lenName": 16,
    "lenType": 16,
    "lenVar": 40
   },
   "kernels_config": {
    "python": {
     "delete_cmd_postfix": "",
     "delete_cmd_prefix": "del ",
     "library": "var_list.py",
     "varRefreshCmd": "print(var_dic_list())"
    },
    "r": {
     "delete_cmd_postfix": ") ",
     "delete_cmd_prefix": "rm(",
     "library": "var_list.r",
     "varRefreshCmd": "cat(var_dic_list()) "
    }
   },
   "types_to_exclude": [
    "module",
    "function",
    "builtin_function_or_method",
    "instance",
    "_Feature"
   ],
   "window_display": false
  }
 },
 "nbformat": 4,
 "nbformat_minor": 2
}
