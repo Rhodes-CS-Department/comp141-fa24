{
 "cells": [
  {
   "cell_type": "markdown",
   "id": "79c26b22",
   "metadata": {},
   "source": [
    "## Practice From Last Time\n",
    "1. Write a function called `direction` that takes two float arguments, `x` and `y`. Consider an arrow  on the Cartesian plane pointing from (0,0) to (x, y). This function should return the string \"NE\", \"SE\", \"SW\", or \"NW\" depending on the direction that the arrow points. Assume `x` and `y` will never be 0. The def line will be: `def direction(x, y):`"
   ]
  },
  {
   "cell_type": "code",
   "execution_count": null,
   "id": "fac31d0b",
   "metadata": {},
   "outputs": [],
   "source": [
    "def direction(x, y):\n",
    "    if x > 0 and y > 0:\n",
    "        return \"NE\"\n",
    "    elif x > 0 and y < 0:\n",
    "        return \"SE\"\n",
    "    elif x < 0 and y > 0:\n",
    "        return \"NW\"\n",
    "    elif x < 0 and y < 0:\n",
    "        return \"SW\"\n",
    "\n",
    "print(direction(5.6, 9.7))\n",
    "print(direction(-5.6, -9.7))\n",
    "\n"
   ]
  },
  {
   "cell_type": "code",
   "execution_count": null,
   "id": "f2064170",
   "metadata": {},
   "outputs": [],
   "source": [
    "def direction(x, y):\n",
    "    if x > 0 and y > 0:\n",
    "        d =  \"NE\"\n",
    "    elif x > 0 and y < 0:\n",
    "        d =  \"SE\"\n",
    "    elif x < 0 and y > 0:\n",
    "        d = \"NW\"\n",
    "    elif x < 0 and y < 0:\n",
    "        d = \"SW\"\n",
    "    return d\n"
   ]
  },
  {
   "cell_type": "markdown",
   "id": "d6849d1f",
   "metadata": {},
   "source": [
    "2. Write a function called `area_of_circle` that takes in one float argument `radius`. This function should return the area of a circle with that radius ($area= \\pi ∗ 𝑟^2$). The def line will be: `def area_of_circle(radius):`"
   ]
  },
  {
   "cell_type": "code",
   "execution_count": null,
   "id": "1df15637",
   "metadata": {},
   "outputs": [],
   "source": [
    "def area_of_circle(radius):\n",
    "    area = 3.14 * radius**2\n",
    "    return area\n",
    "\n",
    "area_of_circle(5.5)"
   ]
  },
  {
   "cell_type": "markdown",
   "id": "bca4a52b",
   "metadata": {},
   "source": [
    "### To Do - ALL due TOMORROW (Tuesday, September 24th) by 11:59pm!\n",
    "1. Lab 04 - for full credit, you must attempt at least 4/8 of the functions (please be sure to test them!)\n",
    "2. Quiz 4 \n",
    "3. Project 03"
   ]
  }
 ],
 "metadata": {
  "kernelspec": {
   "display_name": "Python 3 (ipykernel)",
   "language": "python",
   "name": "python3"
  },
  "language_info": {
   "codemirror_mode": {
    "name": "ipython",
    "version": 3
   },
   "file_extension": ".py",
   "mimetype": "text/x-python",
   "name": "python",
   "nbconvert_exporter": "python",
   "pygments_lexer": "ipython3",
   "version": "3.11.4"
  },
  "varInspector": {
   "cols": {
    "lenName": 16,
    "lenType": 16,
    "lenVar": 40
   },
   "kernels_config": {
    "python": {
     "delete_cmd_postfix": "",
     "delete_cmd_prefix": "del ",
     "library": "var_list.py",
     "varRefreshCmd": "print(var_dic_list())"
    },
    "r": {
     "delete_cmd_postfix": ") ",
     "delete_cmd_prefix": "rm(",
     "library": "var_list.r",
     "varRefreshCmd": "cat(var_dic_list()) "
    }
   },
   "types_to_exclude": [
    "module",
    "function",
    "builtin_function_or_method",
    "instance",
    "_Feature"
   ],
   "window_display": false
  }
 },
 "nbformat": 4,
 "nbformat_minor": 5
}
